{
 "cells": [
  {
   "cell_type": "markdown",
   "metadata": {},
   "source": [
    "# Spark Stream"
   ]
  },
  {
   "cell_type": "markdown",
   "metadata": {},
   "source": [
    "# I/ Video games"
   ]
  },
  {
   "cell_type": "code",
   "execution_count": null,
   "metadata": {},
   "outputs": [],
   "source": [
    "from pyspark.sql import SparkSession\n",
    "from pyspark.sql.types import StructType\n",
    "spark = SparkSession.builder.appName('StructuredNetworkWordCount').getOrCreate()\n",
    "\n",
    "# Define schema of the csv\n",
    "userSchema = StructType().add('Rank', 'integer').add('Name', 'string').add('Platform', 'string').add('Year', 'double').add('Genre', 'string').add('Publisher', 'string').add('NA_Sales', 'double').add('EU_Sales', 'double').add('JP_Sales', 'double').add('Other_Sales', 'double').add('Global_Sales', 'double')\n",
    "\n",
    "# Read CSV files from set path\n",
    "dfCSV = spark.readStream.option('sep', ',').option('header', 'true').schema(userSchema).csv('/tmp/spark_stream/vgames')\n",
    "\n",
    "# Create a temporary view. And this is a streaming DataFrame.\n",
    "dfCSV.createOrReplaceTempView('VideoGames')\n",
    "\n",
    "#display global_sales in 2006 where publisher is nintendo\n",
    "global_2006_nintendo = spark.sql(\"SELECT Global_Sales FROM VideoGames where Year=2006 and  Publisher like 'Nintendo'\")\n",
    "\n",
    "#display total Global Sales for each year \n",
    "Total_Global_Sales = spark.sql(\"SELECT Year, SUM(Global_Sales) FROM VideoGames GROUP BY Year\")\n",
    "\n",
    "#Display the average of global sales for each pair of plateform and video game name\n",
    "Avg_Global_sales=spark.sql(\"SELECT Platform, Name ,MEAN(Global_Sales) FROM VideoGames GROUP BY Platform, Name\")\n",
    "\n",
    "# Receiving data and Start running the query that prints the result on the console.\n",
    "query = global_2006_nintendo.writeStream.outputMode('Append').format('console').start()\n",
    "query1 = Total_Global_Sales.writeStream.outputMode('Complete').format('console').start()\n",
    "query2 = Avg_Global_sales.writeStream.outputMode('Complete').format('console').start()\n",
    "spark.streams.awaitAnyTermination()"
   ]
  },
  {
   "cell_type": "markdown",
   "metadata": {},
   "source": [
    "# II/ Cars-2"
   ]
  },
  {
   "cell_type": "code",
   "execution_count": null,
   "metadata": {},
   "outputs": [],
   "source": [
    "from pyspark.sql import SparkSession\n",
    "from pyspark.sql.types import StructType\n",
    "spark = SparkSession.builder.appName('StructuredNetworkWordCount').getOrCreate()\n",
    "\n",
    "# Define schema of the csv\n",
    "userSchema = StructType().add('Manufacturer', 'string').add('Model', 'string').add('Sales_in_thousands', 'double').add('__year_resale_value', 'double').add('Vehicle_type', 'string').add('Price_in_thousands', 'double').add('Engine_size', 'double').add('Horsepower', 'double').add('Wheelbase', 'double').add('Width', 'double').add('Length', 'double').add('Curb_weight', 'double').add('Fuel_capacity', 'double').add('Fuel_efficiency', 'double').add('Latest_Launch', 'string').add('Power_perf_factor', 'double')\n",
    "\n",
    "\n",
    "# Read CSV files from set path\n",
    "dfCSV = spark.readStream.option('sep', ',').option('header', 'true').schema(userSchema).csv('/tmp/spark_stream/cars-2')\n",
    "\n",
    "# Create a temporary view. And this is a streaming DataFrame.\n",
    "dfCSV.createOrReplaceTempView('CarsTable')\n",
    "\n",
    "#Print Top Fuel Efficient cars\n",
    "top_fuel_eff_cars = spark.sql(\"SELECT Model, AVG(Fuel_efficiency) FROM  CarsTable  group by Model ORDER BY AVG(Fuel_efficiency) DESC\")\n",
    "\n",
    "#Print Top top manufacturer that have the best Fuel_efficiency average\n",
    "top_fuel_eff_manu = spark.sql(\"SELECT Manufacturer, AVG(Fuel_efficiency) FROM  CarsTable  group by Manufacturer ORDER BY AVG(Fuel_efficiency) DESC\")\n",
    "\n",
    "#Print Total Sales in Thousands grouped by Manufacturer and order by TotalSales\n",
    "Total_Sales = spark.sql(\"SELECT Manufacturer, SUM(Sales_in_thousands) as TotalSales FROM CarsTable  GROUP BY Manufacturer order by TotalSales DESC\")\n",
    "\n",
    "#Audi cars ordered by Year\n",
    "Audi_cars=spark.sql(\"SELECT Manufacturer, Model ,SUBSTRING(Latest_Launch, length(Latest_Launch)-3 ,4 ) AS Year  FROM CarsTable where Manufacturer like 'Audi' \")\n",
    "\n",
    "# Receiving data and Start running the query that prints the result on the console.\n",
    "query = top_fuel_eff_cars.writeStream.outputMode('complete').format('console').start()\n",
    "query1 = top_fuel_eff_manu.writeStream.outputMode('complete').format('console').start()\n",
    "query2 = Total_Sales.writeStream.outputMode('complete').format('console').start()\n",
    "query3 = Audi_cars.writeStream.outputMode('append').format('console').start()\n",
    "spark.streams.awaitAnyTermination()"
   ]
  },
  {
   "cell_type": "markdown",
   "metadata": {},
   "source": [
    "# III/ Google Play"
   ]
  },
  {
   "cell_type": "code",
   "execution_count": null,
   "metadata": {},
   "outputs": [],
   "source": [
    "from pyspark.sql import SparkSession\n",
    "from pyspark.sql.types import StructType\n",
    "spark = SparkSession.builder.appName('StructuredNetworkWordCount').getOrCreate()\n",
    "\n",
    "# Define schema of the csv\n",
    "userSchema = StructType().add('App', 'string').add('Category', 'string').add('Rating', 'float').add('Reviews', 'float').add('numberOfInstalls', 'float').add('Type', 'string').add('price', 'float').add('Genres', 'string')\n",
    "\n",
    "# Read CSV files from set path\n",
    "dfCSV = spark.readStream.option('sep', ',').option('header', 'true').schema(userSchema).csv('/tmp/spark_stream/googleplay')\n",
    "\n",
    "# Create a temporary view. And this is a streaming DataFrame.\n",
    "dfCSV.createOrReplaceTempView('Googleplay')\n",
    "\n",
    "#Top installs\n",
    "top_installs = spark.sql(\"SELECT App,AVG(numberOfInstalls) FROM Googleplay group by App order by AVG(numberOfInstalls) DESC \")\n",
    "\n",
    "#top Rating apps where genre = medical\n",
    "top_rate_medapp = spark.sql(\"SELECT App , AVG(Rating) from Googleplay where Genres like 'Medical' group by App order by AVG(Rating) DESC\")\n",
    "\n",
    "#top priced apps\n",
    "top_priced_app = spark.sql(\"SELECT App ,AVG(price) AS price from Googleplay group by App order by price DESC\")\n",
    "\n",
    "#Top rated categories on Google play\n",
    "top_rated_cat=spark.sql(\"SELECT  Genres,AVG(Rating) as average_rating from Googleplay Group BY Genres order by average_rating DESC\")\n",
    "\n",
    "#top installs where genre = Arcade\n",
    "top_inst_arc=spark.sql(\"SELECT  App, SUM(numberOfInstalls) from Googleplay  where Genres like 'Arcade' Group BY App order by SUM(numberOfInstalls)  DESC limit 5\")\n",
    "\n",
    "# Receiving data and Start running the query that prints the result on the console.\n",
    "query = top_installs.writeStream.outputMode('complete').format('console').start()\n",
    "query1 = top_rate_medapp.writeStream.outputMode('complete').format('console').start()\n",
    "query2 = top_priced_app.writeStream.outputMode('complete').format('console').start()\n",
    "query3 = top_rated_cat.writeStream.outputMode('complete').format('console').start()\n",
    "query4 = top_inst_arc.writeStream.outputMode('complete').format('console').start()\n",
    "spark.streams.awaitAnyTermination()"
   ]
  },
  {
   "cell_type": "code",
   "execution_count": null,
   "metadata": {},
   "outputs": [],
   "source": []
  }
 ],
 "metadata": {
  "kernelspec": {
   "display_name": "Python 3",
   "language": "python",
   "name": "python3"
  },
  "language_info": {
   "codemirror_mode": {
    "name": "ipython",
    "version": 3
   },
   "file_extension": ".py",
   "mimetype": "text/x-python",
   "name": "python",
   "nbconvert_exporter": "python",
   "pygments_lexer": "ipython3",
   "version": "3.6.10"
  }
 },
 "nbformat": 4,
 "nbformat_minor": 4
}
